{
 "cells": [
  {
   "cell_type": "markdown",
   "metadata": {
    "collapsed": true
   },
   "source": [
    "## *QUESTIONS:\n",
    "## *Datatypes,Operators ,input and output in python:"
   ]
  },
  {
   "cell_type": "markdown",
   "metadata": {},
   "source": [
    "### 1. What is variable? And rules to declare a variable in python?"
   ]
  },
  {
   "cell_type": "markdown",
   "metadata": {},
   "source": [
    "Ans-Variables in python are nothing but the memory location where we can store data values.\n",
    "    for example:\n",
    "    a=20\n",
    "    here a is varibale and 20 is the data value.\n",
    "    We have assigned the value 20 to the variable\n",
    "\n",
    "    *rules to declare a variable in python:\n",
    "    1.A variable name must start with a letter or the underscore character.\n",
    "    2.A variable name cannot start with a number and special character(@,#) are not allowed.\n",
    "    3.A variable name can only contain alpha-numeric characters and underscores(A-z, 0-9, and _).\n",
    "    4.Variable names are case-sensitive(for eg: name,NAME,Name are three different variables)."
   ]
  },
  {
   "cell_type": "markdown",
   "metadata": {},
   "source": [
    "### 2. What are the primitive built-in types in python?\n",
    "Ans- Python has four primitive types: \n",
    "     integers, floats, booleans and strings."
   ]
  },
  {
   "cell_type": "markdown",
   "metadata": {},
   "source": [
    "### 3. What is the mutatble and immutable object in Python,Which datatypes are immutable in Python?\n",
    "\n",
    "Ans-A mutable object can be changed after it is created, and an immutable object can not be change after it is created.\n",
    "    Number,String and Tuple are immutable datatypes in Python."
   ]
  },
  {
   "cell_type": "markdown",
   "metadata": {},
   "source": [
    "### 4. How to get the length of the string?\n",
    "\n",
    "Ans-we get the length of the name by using len() function.\n",
    "    for example: name = \"python\"    "
   ]
  },
  {
   "cell_type": "code",
   "execution_count": null,
   "metadata": {
    "collapsed": true
   },
   "outputs": [],
   "source": [
    "name=\"python\"\n",
    "print(len(name))"
   ]
  },
  {
   "cell_type": "markdown",
   "metadata": {},
   "source": [
    "### 5. Which are the Relational Operators and their used in python?\n",
    "\n",
    "Ans- (> Greater than,>= Greater than or equal to, <= Less than or equal to, == Equals ,!= Not equal to)\n",
    "     are the Relational Operators in python.\n",
    "     Relational Operators are used to compare the two quantities so that we can understand whether two values are same or which      one is bigger or which one is lesser."
   ]
  },
  {
   "cell_type": "markdown",
   "metadata": {},
   "source": [
    "### 6. what is the result of float(5), 10>=\"9\", 10**2, len(\"basic python\")?\n",
    "\n",
    "Ans-The result of loat(5) is 5.0                    # to get accurate value \n",
    "The result of 10>=\"9\" is false                      # '>=' not supported string and int \n",
    "The result of 10**2 is 100                          #** is used for power\n",
    "The result of len(\"basic python\") is 12             # it include space in count."
   ]
  },
  {
   "cell_type": "markdown",
   "metadata": {},
   "source": [
    "### 7. what is meant by input and output? Which fuction is used to display output in python?\n",
    "\n",
    "Ans- The data given to the computer is called input.\n",
    "     The result returned by the computer are called output.\n",
    "     Python provides the print() fuction to display output."
   ]
  },
  {
   "cell_type": "markdown",
   "metadata": {},
   "source": [
    "### 8. Convert any integer number into float, string, and convert float into string, integer Convert string into float, integer?\n"
   ]
  },
  {
   "cell_type": "code",
   "execution_count": 3,
   "metadata": {},
   "outputs": [
    {
     "name": "stdout",
     "output_type": "stream",
     "text": [
      "45.0 <class 'float'>\n",
      "45 <class 'str'>\n"
     ]
    }
   ],
   "source": [
    "#convert integer number into float,string\n",
    "a=45\n",
    "b=float(a)\n",
    "c=str(a)\n",
    "print(b,type(b))\n",
    "print(c,type(c))"
   ]
  },
  {
   "cell_type": "code",
   "execution_count": 1,
   "metadata": {},
   "outputs": [
    {
     "name": "stdout",
     "output_type": "stream",
     "text": [
      "50 <class 'int'>\n",
      "50.5 <class 'str'>\n"
     ]
    }
   ],
   "source": [
    "#convert float into string, integer\n",
    "a=50.5\n",
    "b=int(a)\n",
    "print(b,type(b))\n",
    "c=50.5\n",
    "d=str(c)\n",
    "print(d,type(d))"
   ]
  },
  {
   "cell_type": "code",
   "execution_count": 2,
   "metadata": {},
   "outputs": [
    {
     "name": "stdout",
     "output_type": "stream",
     "text": [
      "55 <class 'int'>\n",
      "55.0 <class 'float'>\n"
     ]
    }
   ],
   "source": [
    "#Convert string into float, integer\n",
    "a='55'\n",
    "b=int(a)\n",
    "print(b,type(b))\n",
    "d=float(a)\n",
    "print(d,type(d))"
   ]
  },
  {
   "cell_type": "markdown",
   "metadata": {},
   "source": [
    "### 9. Take integer number using input function from user?"
   ]
  },
  {
   "cell_type": "code",
   "execution_count": 4,
   "metadata": {},
   "outputs": [
    {
     "name": "stdout",
     "output_type": "stream",
     "text": [
      "enter a value45\n",
      "integer number is 45\n"
     ]
    }
   ],
   "source": [
    "num1=int(input(\"enter a value\"))\n",
    "print(\"integer number is\",num1)"
   ]
  },
  {
   "cell_type": "markdown",
   "metadata": {},
   "source": [
    "### 10. Take two number using input function and find their sum?"
   ]
  },
  {
   "cell_type": "code",
   "execution_count": 5,
   "metadata": {},
   "outputs": [
    {
     "name": "stdout",
     "output_type": "stream",
     "text": [
      "enter a value12.5\n",
      "enter a value13.5\n",
      "sum of two number is 26.0\n"
     ]
    }
   ],
   "source": [
    "num1=float(input(\"enter a value\"))\n",
    "num2=float(input(\"enter a value\"))\n",
    "sum=num1+num2\n",
    "print(\"sum of two number is\",sum)"
   ]
  },
  {
   "cell_type": "markdown",
   "metadata": {},
   "source": [
    "### 11. Write a python program to accept two number using input function and use all the arithmetic operators?"
   ]
  },
  {
   "cell_type": "code",
   "execution_count": 6,
   "metadata": {},
   "outputs": [
    {
     "name": "stdout",
     "output_type": "stream",
     "text": [
      "enter a value13\n",
      "enter a value5\n",
      "18,8,65,2.6,3,2\n"
     ]
    }
   ],
   "source": [
    "a=int(input(\"enter a value\"))\n",
    "b=int(input(\"enter a value\"))\n",
    "sum=a+b\n",
    "sub=a-b\n",
    "mult=a*b\n",
    "divi=a/b\n",
    "c=a%b             #it gives remainder\n",
    "d=a//b\n",
    "print(\"\"\"{},{},{},{},{},{}\"\"\".format(sum,sub,mult,divi,c,d))"
   ]
  },
  {
   "cell_type": "markdown",
   "metadata": {
    "collapsed": true
   },
   "source": [
    "### 12. Check whether two numbers are equal or not using identity operator?"
   ]
  },
  {
   "cell_type": "code",
   "execution_count": 7,
   "metadata": {},
   "outputs": [
    {
     "name": "stdout",
     "output_type": "stream",
     "text": [
      "a,b: 10 20\n"
     ]
    },
    {
     "data": {
      "text/plain": [
       "True"
      ]
     },
     "execution_count": 7,
     "metadata": {},
     "output_type": "execute_result"
    }
   ],
   "source": [
    "#is and is not are identity operator\n",
    "a=10\n",
    "b=20\n",
    "print(\"a,b:\",a,b)\n",
    "a is not b       "
   ]
  },
  {
   "cell_type": "code",
   "execution_count": 8,
   "metadata": {},
   "outputs": [
    {
     "name": "stdout",
     "output_type": "stream",
     "text": [
      "enter first number12\n",
      "enter second number12\n",
      " a and b are same\n"
     ]
    }
   ],
   "source": [
    "a = int(input('enter first number'))\n",
    "b = int(input('enter second number'))\n",
    "if ( a is b ):\n",
    "   print(\" a and b are same\")\n",
    "else:\n",
    "   print(\" a and b are not same\")"
   ]
  },
  {
   "cell_type": "markdown",
   "metadata": {},
   "source": [
    "### 13. Write a python program to check whether two string are equal or not using comparison operator?"
   ]
  },
  {
   "cell_type": "code",
   "execution_count": 9,
   "metadata": {},
   "outputs": [
    {
     "data": {
      "text/plain": [
       "False"
      ]
     },
     "execution_count": 9,
     "metadata": {},
     "output_type": "execute_result"
    }
   ],
   "source": [
    "str1=\"python\"             #Python is case sensitive language hence \"P\"(capital) and \"p\"(small) letters are different..\n",
    "str2=\"Python\"\n",
    "str1==str2   "
   ]
  },
  {
   "cell_type": "code",
   "execution_count": 10,
   "metadata": {},
   "outputs": [
    {
     "name": "stdout",
     "output_type": "stream",
     "text": [
      "enter first string:str\n",
      "enter second string:str\n",
      " str1 and str2 are same\n"
     ]
    }
   ],
   "source": [
    "str1 = input('enter first string:')\n",
    "str2 = input('enter second string:')\n",
    "if str1==str2:\n",
    "    print(\" str1 and str2 are same\")\n",
    "else:\n",
    "    print(\"str1 and str2 are not same \")"
   ]
  },
  {
   "cell_type": "markdown",
   "metadata": {},
   "source": [
    "### 14. Assign same value to three variable name a, b and c using one line command?"
   ]
  },
  {
   "cell_type": "code",
   "execution_count": 11,
   "metadata": {},
   "outputs": [
    {
     "name": "stdout",
     "output_type": "stream",
     "text": [
      "11 11 11\n"
     ]
    }
   ],
   "source": [
    "a=b=c=11\n",
    "print(a,b,c)"
   ]
  },
  {
   "cell_type": "code",
   "execution_count": 12,
   "metadata": {},
   "outputs": [
    {
     "name": "stdout",
     "output_type": "stream",
     "text": [
      "a,b,c: 11 11 11\n",
      "11,11,11\n"
     ]
    }
   ],
   "source": [
    "a=b=c=11\n",
    "print(\"a,b,c:\",a,b,c)\n",
    "print(\"{},{},{}\".format(a,b,c))          #we can print three varible in one line command in different way."
   ]
  },
  {
   "cell_type": "markdown",
   "metadata": {},
   "source": [
    "### 15. How to print address of variables in python?"
   ]
  },
  {
   "cell_type": "code",
   "execution_count": 13,
   "metadata": {},
   "outputs": [
    {
     "name": "stdout",
     "output_type": "stream",
     "text": [
      "1401481968\n",
      "2479645476600\n"
     ]
    }
   ],
   "source": [
    "a=10             \n",
    "str=\"python\"\n",
    "print(id(a))         #by using id() function we get ad.dress of variables in python\n",
    "print(id(str)) "
   ]
  },
  {
   "cell_type": "markdown",
   "metadata": {},
   "source": [
    "### 16. Introduction of python? For eg, invention, version and installation?"
   ]
  },
  {
   "cell_type": "markdown",
   "metadata": {
    "collapsed": true
   },
   "source": [
    "Ans-Python is a free, open-source,interpreted, high-level, general-purpose programming language.\n",
    "    python is developed by Guido van Rossum. Guido van Rossum started implementing Python in 1989."
   ]
  },
  {
   "cell_type": "code",
   "execution_count": null,
   "metadata": {
    "collapsed": true
   },
   "outputs": [],
   "source": []
  }
 ],
 "metadata": {
  "kernelspec": {
   "display_name": "Python 3",
   "language": "python",
   "name": "python3"
  },
  "language_info": {
   "codemirror_mode": {
    "name": "ipython",
    "version": 3
   },
   "file_extension": ".py",
   "mimetype": "text/x-python",
   "name": "python",
   "nbconvert_exporter": "python",
   "pygments_lexer": "ipython3",
   "version": "3.7.4"
  }
 },
 "nbformat": 4,
 "nbformat_minor": 2
}
