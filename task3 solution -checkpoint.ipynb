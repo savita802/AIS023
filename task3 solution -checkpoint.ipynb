{
 "cells": [
  {
   "cell_type": "markdown",
   "metadata": {},
   "source": [
    "## Name :Savita Baliram Patil\n",
    "ID:AIS023\n",
    "\n",
    "Python Exercise No: 3\n",
    "Subject: List and Tuple in python "
   ]
  },
  {
   "cell_type": "markdown",
   "metadata": {},
   "source": [
    "#### 1. What is tuple?\n",
    "A tuple is a collection which is ordered and unchangeable."
   ]
  },
  {
   "cell_type": "markdown",
   "metadata": {},
   "source": [
    "#### 2. What is difference between list and tuple? \n",
    "The difference between the two is thant we cant change element of tuple once it is assigned whereas in the list, \n",
    "eliments can be changed"
   ]
  },
  {
   "cell_type": "markdown",
   "metadata": {},
   "source": [
    "#### 3. What is the result of range (1, 12, 2)? "
   ]
  },
  {
   "cell_type": "markdown",
   "metadata": {},
   "source": [
    "for i in range(1,12,2):\n",
    "print(i)"
   ]
  },
  {
   "cell_type": "markdown",
   "metadata": {},
   "source": [
    "#### 4. Assuming a= [10, 20, 30, 40, 50] \n",
    "    1. Find length of a list? \n",
    "    2. Find maximum and minimum number of a list "
   ]
  },
  {
   "cell_type": "code",
   "execution_count": 2,
   "metadata": {},
   "outputs": [
    {
     "name": "stdout",
     "output_type": "stream",
     "text": [
      "5\n",
      "50\n",
      "10\n"
     ]
    }
   ],
   "source": [
    "a=[10,20,30,40,50]\n",
    "print(len(a))\n",
    "print(max(a))\n",
    "print(min(a))"
   ]
  },
  {
   "cell_type": "markdown",
   "metadata": {},
   "source": [
    "#### 5. If x=(1,2,3,4,5,1,3,1) then what is the result of x*2 and x.count(1)? "
   ]
  },
  {
   "cell_type": "code",
   "execution_count": 3,
   "metadata": {},
   "outputs": [
    {
     "name": "stdout",
     "output_type": "stream",
     "text": [
      "(1, 2, 3, 4, 5, 1, 3, 1, 1, 2, 3, 4, 5, 1, 3, 1)\n",
      "3\n"
     ]
    }
   ],
   "source": [
    "x=(1,2,3,4,5,1,3,1)\n",
    "print(x*2)\n",
    "print(x.count(1))"
   ]
  },
  {
   "cell_type": "markdown",
   "metadata": {},
   "source": [
    "#### 6. Create a list of colors name and then print first and last color name of the list using slicing? \n",
    " "
   ]
  },
  {
   "cell_type": "code",
   "execution_count": 4,
   "metadata": {},
   "outputs": [
    {
     "name": "stdout",
     "output_type": "stream",
     "text": [
      "Blue\n",
      "Pink\n"
     ]
    }
   ],
   "source": [
    "colors=[\"Blue\",\"Red\",\"Green\",\"Orange\",\"Pink\"]\n",
    "print(colors[0])\n",
    "print(colors[4])"
   ]
  },
  {
   "cell_type": "markdown",
   "metadata": {},
   "source": [
    "#### 7. If list = [1,4,7,'a','c',\"rat\",\"mat\",4,6,4] then  add element 12 using append method and remove rat element using remove\n",
    "method  in the given list? "
   ]
  },
  {
   "cell_type": "code",
   "execution_count": 5,
   "metadata": {},
   "outputs": [
    {
     "name": "stdout",
     "output_type": "stream",
     "text": [
      "[1, 4, 7, 'a', 'c', 'rat', 'mat', 4, 6, 4, [12]]\n",
      "[1, 4, 7, 'a', 'c', 'mat', 4, 6, 4, [12]]\n"
     ]
    }
   ],
   "source": [
    "list=[1,4,7,'a','c',\"rat\",\"mat\",4,6,4]\n",
    "lst2=[12]\n",
    "list.append(lst2)\n",
    "print(list)\n",
    "list.remove(\"rat\")\n",
    "print(list)"
   ]
  },
  {
   "cell_type": "markdown",
   "metadata": {},
   "source": [
    "#### 8. Create two list and concatenate them and then repeat 1st list 3 times? "
   ]
  },
  {
   "cell_type": "code",
   "execution_count": 8,
   "metadata": {},
   "outputs": [
    {
     "name": "stdout",
     "output_type": "stream",
     "text": [
      "[1, 2, 3, [4, 5, 6]]\n",
      "[1, 2, 3, [4, 5, 6], 4, 5, 6]\n"
     ]
    }
   ],
   "source": [
    "lst1=[1,2,3]\n",
    "lst2=[4,5,6]\n",
    "lst1.append(lst2)\n",
    "print(lst1)\n",
    "lst1.extend(lst2)\n",
    "print(lst1)"
   ]
  },
  {
   "cell_type": "markdown",
   "metadata": {},
   "source": [
    "#### 9. Create a tuple of fruits name and then access first 4 elements from the tuple? "
   ]
  },
  {
   "cell_type": "code",
   "execution_count": 10,
   "metadata": {},
   "outputs": [
    {
     "name": "stdout",
     "output_type": "stream",
     "text": [
      "('banana', 'apple', 'orange', 'berry')\n"
     ]
    }
   ],
   "source": [
    "fruits=(\"banana\",\"apple\",\"orange\",\"berry\",\"pinapple\",\"carambola\")\n",
    "print(fruits[0:4])"
   ]
  },
  {
   "cell_type": "markdown",
   "metadata": {},
   "source": [
    "#### 10 .Create a list using range function and then convert this list into tuple using tuple function? "
   ]
  },
  {
   "cell_type": "code",
   "execution_count": 13,
   "metadata": {},
   "outputs": [
    {
     "name": "stdout",
     "output_type": "stream",
     "text": [
      "[0, 1, 2, 3, 4, 5, 6, 7, 8, 9]\n"
     ]
    }
   ],
   "source": [
    "lst=[]\n",
    "for i in range(10):\n",
    " lst.append(i)\n",
    "print(lst)"
   ]
  },
  {
   "cell_type": "markdown",
   "metadata": {},
   "source": [
    "#### 11. Create a tuple using eval function and then obtained the length of tuple? "
   ]
  },
  {
   "cell_type": "code",
   "execution_count": 29,
   "metadata": {},
   "outputs": [
    {
     "name": "stdout",
     "output_type": "stream",
     "text": [
      "(2, 3, 4, 5, 2, 3, 4, 5)\n",
      "4\n"
     ]
    }
   ],
   "source": [
    "x=(2,3,4,5)\n",
    "print(eval(\"x*2\"))\n",
    "print(len(x))"
   ]
  },
  {
   "cell_type": "markdown",
   "metadata": {},
   "source": [
    "#### 12. Create a tuple of integer number and then sort the elements of tuple? "
   ]
  },
  {
   "cell_type": "code",
   "execution_count": 14,
   "metadata": {},
   "outputs": [
    {
     "name": "stdout",
     "output_type": "stream",
     "text": [
      "[2, 3, 4, 5, 5, 7]\n"
     ]
    }
   ],
   "source": [
    "a=(2,5,7,5,3,4)\n",
    "a1=sorted(a)\n",
    "print(a1)"
   ]
  },
  {
   "cell_type": "markdown",
   "metadata": {},
   "source": [
    "#### 13. Create a list of colors name and then insert purple color on 3rd position using insert method? "
   ]
  },
  {
   "cell_type": "code",
   "execution_count": 16,
   "metadata": {},
   "outputs": [
    {
     "name": "stdout",
     "output_type": "stream",
     "text": [
      "['red', 'green', 'purple', 'yellow', 'black', 'gray']\n"
     ]
    }
   ],
   "source": [
    "lst=[\"red\",\"green\",\"yellow\",\"black\",\"gray\"]\n",
    "lst.insert(2,\"purple\")\n",
    "print(lst)"
   ]
  },
  {
   "cell_type": "markdown",
   "metadata": {},
   "source": [
    "#### 14. If x= (50, 60, 70, 80, 90, (200,100)) then access 200,100 from the tuple?"
   ]
  },
  {
   "cell_type": "code",
   "execution_count": 18,
   "metadata": {},
   "outputs": [
    {
     "name": "stdout",
     "output_type": "stream",
     "text": [
      "(200, 100)\n"
     ]
    }
   ],
   "source": [
    "x=(50,60,70,80,90,(200,100))\n",
    "print(x[5])"
   ]
  },
  {
   "cell_type": "markdown",
   "metadata": {},
   "source": [
    "#### 15. Create a nested tuple and nested list? "
   ]
  },
  {
   "cell_type": "code",
   "execution_count": 31,
   "metadata": {},
   "outputs": [
    {
     "name": "stdout",
     "output_type": "stream",
     "text": [
      "[[1, 2, 3], [4, 6, 7], [5, 6]]\n",
      "([1, 2, 3], [4, 5, 6])\n"
     ]
    }
   ],
   "source": [
    "a=[[1,2,3],[4,6,7],[5,6]]\n",
    "print(a)\n",
    "b=([1,2,3],[4,5,6])\n",
    "print(b)"
   ]
  }
 ],
 "metadata": {
  "kernelspec": {
   "display_name": "Python 3",
   "language": "python",
   "name": "python3"
  },
  "language_info": {
   "codemirror_mode": {
    "name": "ipython",
    "version": 3
   },
   "file_extension": ".py",
   "mimetype": "text/x-python",
   "name": "python",
   "nbconvert_exporter": "python",
   "pygments_lexer": "ipython3",
   "version": "3.7.4"
  }
 },
 "nbformat": 4,
 "nbformat_minor": 2
}
