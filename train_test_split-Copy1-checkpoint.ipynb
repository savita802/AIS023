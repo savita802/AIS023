{
 "cells": [
  {
   "cell_type": "code",
   "execution_count": 4,
   "metadata": {},
   "outputs": [
    {
     "data": {
      "text/html": [
       "<div>\n",
       "<style scoped>\n",
       "    .dataframe tbody tr th:only-of-type {\n",
       "        vertical-align: middle;\n",
       "    }\n",
       "\n",
       "    .dataframe tbody tr th {\n",
       "        vertical-align: top;\n",
       "    }\n",
       "\n",
       "    .dataframe thead th {\n",
       "        text-align: right;\n",
       "    }\n",
       "</style>\n",
       "<table border=\"1\" class=\"dataframe\">\n",
       "  <thead>\n",
       "    <tr style=\"text-align: right;\">\n",
       "      <th></th>\n",
       "      <th>Unnamed: 0</th>\n",
       "      <th>age</th>\n",
       "      <th>smoke</th>\n",
       "      <th>n</th>\n",
       "      <th>y</th>\n",
       "      <th>ns</th>\n",
       "    </tr>\n",
       "  </thead>\n",
       "  <tbody>\n",
       "    <tr>\n",
       "      <td>0</td>\n",
       "      <td>1</td>\n",
       "      <td>40</td>\n",
       "      <td>0</td>\n",
       "      <td>18790</td>\n",
       "      <td>2</td>\n",
       "      <td>0</td>\n",
       "    </tr>\n",
       "    <tr>\n",
       "      <td>1</td>\n",
       "      <td>2</td>\n",
       "      <td>50</td>\n",
       "      <td>0</td>\n",
       "      <td>10673</td>\n",
       "      <td>12</td>\n",
       "      <td>0</td>\n",
       "    </tr>\n",
       "    <tr>\n",
       "      <td>2</td>\n",
       "      <td>3</td>\n",
       "      <td>60</td>\n",
       "      <td>0</td>\n",
       "      <td>5710</td>\n",
       "      <td>28</td>\n",
       "      <td>0</td>\n",
       "    </tr>\n",
       "    <tr>\n",
       "      <td>3</td>\n",
       "      <td>4</td>\n",
       "      <td>70</td>\n",
       "      <td>0</td>\n",
       "      <td>2585</td>\n",
       "      <td>28</td>\n",
       "      <td>0</td>\n",
       "    </tr>\n",
       "    <tr>\n",
       "      <td>4</td>\n",
       "      <td>5</td>\n",
       "      <td>80</td>\n",
       "      <td>0</td>\n",
       "      <td>1462</td>\n",
       "      <td>31</td>\n",
       "      <td>0</td>\n",
       "    </tr>\n",
       "  </tbody>\n",
       "</table>\n",
       "</div>"
      ],
      "text/plain": [
       "   Unnamed: 0  age  smoke      n   y  ns\n",
       "0           1   40      0  18790   2   0\n",
       "1           2   50      0  10673  12   0\n",
       "2           3   60      0   5710  28   0\n",
       "3           4   70      0   2585  28   0\n",
       "4           5   80      0   1462  31   0"
      ]
     },
     "execution_count": 4,
     "metadata": {},
     "output_type": "execute_result"
    }
   ],
   "source": [
    "#Smoking Deaths Among Doctors\n",
    "#https://vincentarelbundock.github.io/Rdatasets/csv/boot/breslow.csv\n",
    "import pandas as pd\n",
    "data=pd.read_csv(r'C:\\Users\\Prasad\\Downloads\\breslow.csv')\n",
    "data.head()"
   ]
  },
  {
   "cell_type": "code",
   "execution_count": 6,
   "metadata": {},
   "outputs": [
    {
     "name": "stdout",
     "output_type": "stream",
     "text": [
      "   Unnamed: 0  age  smoke      n    y\n",
      "0           1   40      0  18790    2\n",
      "1           2   50      0  10673   12\n",
      "2           3   60      0   5710   28\n",
      "3           4   70      0   2585   28\n",
      "4           5   80      0   1462   31\n",
      "5           6   40      1  52407   32\n",
      "6           7   50      1  43248  104\n",
      "7           8   60      1  28612  206\n",
      "8           9   70      1  12663  186\n",
      "9          10   80      1   5317  102\n",
      "      ns\n",
      "0      0\n",
      "1      0\n",
      "2      0\n",
      "3      0\n",
      "4      0\n",
      "5  52407\n",
      "6  43248\n",
      "7  28612\n",
      "8  12663\n",
      "9   5317\n"
     ]
    }
   ],
   "source": [
    "x=data.iloc[:,0:5]\n",
    "y=data.iloc[:,5:6]\n",
    "print(x)\n",
    "print(y)"
   ]
  },
  {
   "cell_type": "code",
   "execution_count": 7,
   "metadata": {},
   "outputs": [
    {
     "data": {
      "text/plain": [
       "array([    0, 52407, 43248, 28612, 12663,  5317], dtype=int64)"
      ]
     },
     "execution_count": 7,
     "metadata": {},
     "output_type": "execute_result"
    }
   ],
   "source": [
    "data[\"ns\"].unique()"
   ]
  },
  {
   "cell_type": "code",
   "execution_count": null,
   "metadata": {},
   "outputs": [],
   "source": []
  },
  {
   "cell_type": "code",
   "execution_count": 13,
   "metadata": {},
   "outputs": [
    {
     "name": "stdout",
     "output_type": "stream",
     "text": [
      "   Unnamed: 0  age  smoke      n    y\n",
      "8           9   70      1  12663  186\n",
      "4           5   80      0   1462   31\n",
      "9          10   80      1   5317  102\n",
      "1           2   50      0  10673   12\n",
      "7           8   60      1  28612  206\n",
      "5           6   40      1  52407   32\n",
      "3           4   70      0   2585   28\n",
      "0           1   40      0  18790    2\n",
      "      ns\n",
      "8  12663\n",
      "4      0\n",
      "9   5317\n",
      "1      0\n",
      "7  28612\n",
      "5  52407\n",
      "3      0\n",
      "0      0\n",
      "   Unnamed: 0  age  smoke      n    y\n",
      "6           7   50      1  43248  104\n",
      "2           3   60      0   5710   28\n",
      "      ns\n",
      "6  43248\n",
      "2      0\n"
     ]
    }
   ],
   "source": [
    "from sklearn.model_selection import train_test_split\n",
    "x_train,x_test,y_train,y_test=train_test_split(x,y,train_size=0.8,test_size=0.2,random_state=110)\n",
    "print(x_train)\n",
    "print(y_train)\n",
    "print(x_test)\n",
    "print(y_test)"
   ]
  },
  {
   "cell_type": "code",
   "execution_count": 14,
   "metadata": {},
   "outputs": [
    {
     "data": {
      "text/html": [
       "<div>\n",
       "<style scoped>\n",
       "    .dataframe tbody tr th:only-of-type {\n",
       "        vertical-align: middle;\n",
       "    }\n",
       "\n",
       "    .dataframe tbody tr th {\n",
       "        vertical-align: top;\n",
       "    }\n",
       "\n",
       "    .dataframe thead th {\n",
       "        text-align: right;\n",
       "    }\n",
       "</style>\n",
       "<table border=\"1\" class=\"dataframe\">\n",
       "  <thead>\n",
       "    <tr style=\"text-align: right;\">\n",
       "      <th></th>\n",
       "      <th>Unnamed: 0</th>\n",
       "      <th>year</th>\n",
       "      <th>quarter</th>\n",
       "      <th>delay</th>\n",
       "      <th>dud</th>\n",
       "      <th>time</th>\n",
       "      <th>y</th>\n",
       "    </tr>\n",
       "  </thead>\n",
       "  <tbody>\n",
       "    <tr>\n",
       "      <td>0</td>\n",
       "      <td>1</td>\n",
       "      <td>1983</td>\n",
       "      <td>3</td>\n",
       "      <td>0</td>\n",
       "      <td>0</td>\n",
       "      <td>1</td>\n",
       "      <td>2</td>\n",
       "    </tr>\n",
       "    <tr>\n",
       "      <td>1</td>\n",
       "      <td>2</td>\n",
       "      <td>1983</td>\n",
       "      <td>3</td>\n",
       "      <td>2</td>\n",
       "      <td>0</td>\n",
       "      <td>1</td>\n",
       "      <td>6</td>\n",
       "    </tr>\n",
       "    <tr>\n",
       "      <td>2</td>\n",
       "      <td>3</td>\n",
       "      <td>1983</td>\n",
       "      <td>3</td>\n",
       "      <td>5</td>\n",
       "      <td>0</td>\n",
       "      <td>1</td>\n",
       "      <td>0</td>\n",
       "    </tr>\n",
       "    <tr>\n",
       "      <td>3</td>\n",
       "      <td>4</td>\n",
       "      <td>1983</td>\n",
       "      <td>3</td>\n",
       "      <td>8</td>\n",
       "      <td>0</td>\n",
       "      <td>1</td>\n",
       "      <td>1</td>\n",
       "    </tr>\n",
       "    <tr>\n",
       "      <td>4</td>\n",
       "      <td>5</td>\n",
       "      <td>1983</td>\n",
       "      <td>3</td>\n",
       "      <td>11</td>\n",
       "      <td>0</td>\n",
       "      <td>1</td>\n",
       "      <td>1</td>\n",
       "    </tr>\n",
       "  </tbody>\n",
       "</table>\n",
       "</div>"
      ],
      "text/plain": [
       "   Unnamed: 0  year  quarter  delay  dud  time  y\n",
       "0           1  1983        3      0    0     1  2\n",
       "1           2  1983        3      2    0     1  6\n",
       "2           3  1983        3      5    0     1  0\n",
       "3           4  1983        3      8    0     1  1\n",
       "4           5  1983        3     11    0     1  1"
      ]
     },
     "execution_count": 14,
     "metadata": {},
     "output_type": "execute_result"
    }
   ],
   "source": [
    "#Delay in AIDS Reporting in England and Wales\n",
    "#https://vincentarelbundock.github.io/Rdatasets/csv/boot/aids.csv\n",
    "import pandas as pd\n",
    "data=pd.read_csv(r'C:\\Users\\Prasad\\Downloads\\aids.csv')\n",
    "data.head()"
   ]
  },
  {
   "cell_type": "code",
   "execution_count": 15,
   "metadata": {},
   "outputs": [
    {
     "name": "stdout",
     "output_type": "stream",
     "text": [
      "     Unnamed: 0  year  quarter  delay  dud  time\n",
      "0             1  1983        3      0    0     1\n",
      "1             2  1983        3      2    0     1\n",
      "2             3  1983        3      5    0     1\n",
      "3             4  1983        3      8    0     1\n",
      "4             5  1983        3     11    0     1\n",
      "..          ...   ...      ...    ...  ...   ...\n",
      "565         566  1992        4     29    1    38\n",
      "566         567  1992        4     32    1    38\n",
      "567         568  1992        4     35    1    38\n",
      "568         569  1992        4     38    1    38\n",
      "569         570  1992        4     41    1    38\n",
      "\n",
      "[570 rows x 6 columns]\n",
      "     y\n",
      "0    2\n",
      "1    6\n",
      "2    0\n",
      "3    1\n",
      "4    1\n",
      "..  ..\n",
      "565  0\n",
      "566  0\n",
      "567  0\n",
      "568  0\n",
      "569  0\n",
      "\n",
      "[570 rows x 1 columns]\n"
     ]
    }
   ],
   "source": [
    "x=data.iloc[:,0:6]\n",
    "y=data.iloc[:,6:7]\n",
    "print(x)\n",
    "print(y)"
   ]
  },
  {
   "cell_type": "code",
   "execution_count": 17,
   "metadata": {},
   "outputs": [
    {
     "name": "stdout",
     "output_type": "stream",
     "text": [
      "     Unnamed: 0  year  quarter  delay  dud  time\n",
      "500         501  1991        4     14    1    34\n",
      "471         472  1991        2     17    0    32\n",
      "335         336  1989        1     14    0    23\n",
      "374         375  1989        3     41    1    25\n",
      "78           79  1984        4      8    0     6\n",
      "..          ...   ...      ...    ...  ...   ...\n",
      "431         432  1990        3     32    1    29\n",
      "381         382  1989        4     17    0    26\n",
      "271         272  1988        1      2    0    19\n",
      "61           62  1984        3      2    0     5\n",
      "128         129  1985        3     23    0     9\n",
      "\n",
      "[427 rows x 6 columns]\n",
      "      y\n",
      "500   1\n",
      "471  10\n",
      "335  19\n",
      "374   0\n",
      "78    5\n",
      "..   ..\n",
      "431   0\n",
      "381   6\n",
      "271  80\n",
      "61   17\n",
      "128   7\n",
      "\n",
      "[427 rows x 1 columns]\n",
      "     Unnamed: 0  year  quarter  delay  dud  time\n",
      "549         550  1992        3     26    1    37\n",
      "546         547  1992        3     17    1    37\n",
      "299         300  1988        2     41    0    20\n",
      "27           28  1983        4     35    0     2\n",
      "58           59  1984        2     38    0     4\n",
      "..          ...   ...      ...    ...  ...   ...\n",
      "57           58  1984        2     35    0     4\n",
      "191         192  1986        3     32    0    13\n",
      "11           12  1983        3     32    0     1\n",
      "92           93  1985        1      5    0     7\n",
      "459         460  1991        1     26    1    31\n",
      "\n",
      "[143 rows x 6 columns]\n",
      "     y\n",
      "549  0\n",
      "546  0\n",
      "299  3\n",
      "27   0\n",
      "58   0\n",
      "..  ..\n",
      "57   0\n",
      "191  0\n",
      "11   0\n",
      "92   4\n",
      "459  0\n",
      "\n",
      "[143 rows x 1 columns]\n"
     ]
    }
   ],
   "source": [
    "from sklearn.model_selection import train_test_split\n",
    "x_train,x_test,y_train,y_test=train_test_split(x,y,train_size=0.75,test_size=0.25,random_state=110)\n",
    "print(x_train)\n",
    "print(y_train)\n",
    "print(x_test)\n",
    "print(y_test)"
   ]
  },
  {
   "cell_type": "code",
   "execution_count": 9,
   "metadata": {},
   "outputs": [
    {
     "data": {
      "text/html": [
       "<div>\n",
       "<style scoped>\n",
       "    .dataframe tbody tr th:only-of-type {\n",
       "        vertical-align: middle;\n",
       "    }\n",
       "\n",
       "    .dataframe tbody tr th {\n",
       "        vertical-align: top;\n",
       "    }\n",
       "\n",
       "    .dataframe thead th {\n",
       "        text-align: right;\n",
       "    }\n",
       "</style>\n",
       "<table border=\"1\" class=\"dataframe\">\n",
       "  <thead>\n",
       "    <tr style=\"text-align: right;\">\n",
       "      <th></th>\n",
       "      <th>Unnamed: 0</th>\n",
       "      <th>time</th>\n",
       "      <th>cens</th>\n",
       "      <th>group</th>\n",
       "    </tr>\n",
       "  </thead>\n",
       "  <tbody>\n",
       "    <tr>\n",
       "      <td>0</td>\n",
       "      <td>1</td>\n",
       "      <td>9</td>\n",
       "      <td>1</td>\n",
       "      <td>1</td>\n",
       "    </tr>\n",
       "    <tr>\n",
       "      <td>1</td>\n",
       "      <td>2</td>\n",
       "      <td>13</td>\n",
       "      <td>1</td>\n",
       "      <td>1</td>\n",
       "    </tr>\n",
       "    <tr>\n",
       "      <td>2</td>\n",
       "      <td>3</td>\n",
       "      <td>13</td>\n",
       "      <td>0</td>\n",
       "      <td>1</td>\n",
       "    </tr>\n",
       "    <tr>\n",
       "      <td>3</td>\n",
       "      <td>4</td>\n",
       "      <td>18</td>\n",
       "      <td>1</td>\n",
       "      <td>1</td>\n",
       "    </tr>\n",
       "    <tr>\n",
       "      <td>4</td>\n",
       "      <td>5</td>\n",
       "      <td>23</td>\n",
       "      <td>1</td>\n",
       "      <td>1</td>\n",
       "    </tr>\n",
       "  </tbody>\n",
       "</table>\n",
       "</div>"
      ],
      "text/plain": [
       "   Unnamed: 0  time  cens  group\n",
       "0           1     9     1      1\n",
       "1           2    13     1      1\n",
       "2           3    13     0      1\n",
       "3           4    18     1      1\n",
       "4           5    23     1      1"
      ]
     },
     "execution_count": 9,
     "metadata": {},
     "output_type": "execute_result"
    }
   ],
   "source": [
    "\n",
    "#Remission Times for Acute Myelogenous Leukaemia\n",
    "#https://vincentarelbundock.github.io/Rdatasets/csv/boot/aml.csv\n",
    "import pandas as pd\n",
    "data=pd.read_csv(r'C:\\Users\\Prasad\\Downloads\\aml.csv')\n",
    "data.head()"
   ]
  },
  {
   "cell_type": "code",
   "execution_count": 10,
   "metadata": {},
   "outputs": [
    {
     "name": "stdout",
     "output_type": "stream",
     "text": [
      "    Unnamed: 0  time  cens\n",
      "0            1     9     1\n",
      "1            2    13     1\n",
      "2            3    13     0\n",
      "3            4    18     1\n",
      "4            5    23     1\n",
      "5            6    28     0\n",
      "6            7    31     1\n",
      "7            8    34     1\n",
      "8            9    45     0\n",
      "9           10    48     1\n",
      "10          11   161     0\n",
      "11          12     5     1\n",
      "12          13     5     1\n",
      "13          14     8     1\n",
      "14          15     8     1\n",
      "15          16    12     1\n",
      "16          17    16     0\n",
      "17          18    23     1\n",
      "18          19    27     1\n",
      "19          20    30     1\n",
      "20          21    33     1\n",
      "21          22    43     1\n",
      "22          23    45     1\n",
      "    group\n",
      "0       1\n",
      "1       1\n",
      "2       1\n",
      "3       1\n",
      "4       1\n",
      "5       1\n",
      "6       1\n",
      "7       1\n",
      "8       1\n",
      "9       1\n",
      "10      1\n",
      "11      2\n",
      "12      2\n",
      "13      2\n",
      "14      2\n",
      "15      2\n",
      "16      2\n",
      "17      2\n",
      "18      2\n",
      "19      2\n",
      "20      2\n",
      "21      2\n",
      "22      2\n"
     ]
    }
   ],
   "source": [
    "x=data.iloc[:,0:3]\n",
    "y=data.iloc[:,3:4]\n",
    "print(x)\n",
    "print(y)"
   ]
  },
  {
   "cell_type": "code",
   "execution_count": 11,
   "metadata": {},
   "outputs": [
    {
     "data": {
      "text/plain": [
       "array([1, 2], dtype=int64)"
      ]
     },
     "execution_count": 11,
     "metadata": {},
     "output_type": "execute_result"
    }
   ],
   "source": [
    "data[\"group\"].unique()"
   ]
  },
  {
   "cell_type": "code",
   "execution_count": null,
   "metadata": {},
   "outputs": [],
   "source": []
  }
 ],
 "metadata": {
  "kernelspec": {
   "display_name": "Python 3",
   "language": "python",
   "name": "python3"
  },
  "language_info": {
   "codemirror_mode": {
    "name": "ipython",
    "version": 3
   },
   "file_extension": ".py",
   "mimetype": "text/x-python",
   "name": "python",
   "nbconvert_exporter": "python",
   "pygments_lexer": "ipython3",
   "version": "3.7.4"
  }
 },
 "nbformat": 4,
 "nbformat_minor": 2
}
