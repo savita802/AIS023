{
 "cells": [
  {
   "cell_type": "markdown",
   "metadata": {},
   "source": [
    "## Name:Savita Baliram Patil\n",
    "ID:AIS023\n",
    "        "
   ]
  },
  {
   "cell_type": "markdown",
   "metadata": {},
   "source": [
    "### Python Exercise No: 4 \n",
    "\n",
    "Subject: Dictionary and Set in python "
   ]
  },
  {
   "cell_type": "markdown",
   "metadata": {},
   "source": [
    "#### 1. What is meant by dictionary? \n",
    "Python dictionary is an unordered collection of items.while other compound data types have only value as an element ,\n",
    "a dictionary has a key value pair."
   ]
  },
  {
   "cell_type": "markdown",
   "metadata": {},
   "source": [
    "#### 2. What is difference between dictionary and set? \n",
    "dictionaries are uordered sets.But the main difference is that items in dictionaries are accessed via keys and via their \n",
    "position and set is collection which is unordered and unindexed."
   ]
  },
  {
   "cell_type": "markdown",
   "metadata": {},
   "source": [
    "#### 3. Create a python set of mixed data types? "
   ]
  },
  {
   "cell_type": "code",
   "execution_count": 15,
   "metadata": {},
   "outputs": [
    {
     "name": "stdout",
     "output_type": "stream",
     "text": [
      "{1, 2, 3.4, (1, 2, 3), 'new', 'blue'}\n"
     ]
    }
   ],
   "source": [
    "s=set([1,2,'blue',3.4,'new',(1,2,3)])\n",
    "print(s)"
   ]
  },
  {
   "cell_type": "markdown",
   "metadata": {},
   "source": [
    "#### 4. Create a Dictionary of employee name, Id and salary? "
   ]
  },
  {
   "cell_type": "code",
   "execution_count": 2,
   "metadata": {},
   "outputs": [
    {
     "name": "stdout",
     "output_type": "stream",
     "text": [
      "{'name': 'savita', 'Id': 23, 'salary': 20000}\n"
     ]
    }
   ],
   "source": [
    "dict={'name':'savita','Id':23,'salary':20000}\n",
    "print(dict)"
   ]
  },
  {
   "cell_type": "markdown",
   "metadata": {},
   "source": [
    "#### 5. Display key-value pairs from dictionary using items () method? "
   ]
  },
  {
   "cell_type": "code",
   "execution_count": 3,
   "metadata": {},
   "outputs": [
    {
     "name": "stdout",
     "output_type": "stream",
     "text": [
      "dict_items([(1, 4), (2, 5), (3, 9), (4, 6), (5, 10)])\n"
     ]
    }
   ],
   "source": [
    "values={1:4,2:5,3:9,4:6,5:10}\n",
    "print(values.items())"
   ]
  },
  {
   "cell_type": "markdown",
   "metadata": {},
   "source": [
    "#### 6. Create a dictionary and access values of 2nd key from the dictionary? "
   ]
  },
  {
   "cell_type": "code",
   "execution_count": 7,
   "metadata": {},
   "outputs": [
    {
     "name": "stdout",
     "output_type": "stream",
     "text": [
      "12\n"
     ]
    }
   ],
   "source": [
    "dict={'name':'riya','Id':12,'salary':25000}\n",
    "print(dict.get('Id'))"
   ]
  },
  {
   "cell_type": "markdown",
   "metadata": {},
   "source": [
    "#### 7. Create a dictionary and then print empty dictionary using clear () method? "
   ]
  },
  {
   "cell_type": "code",
   "execution_count": 9,
   "metadata": {},
   "outputs": [
    {
     "name": "stdout",
     "output_type": "stream",
     "text": [
      "{}\n"
     ]
    }
   ],
   "source": [
    "dict={1:2,2:5,3:4,4:6}\n",
    "dict.clear()\n",
    "print(dict)"
   ]
  },
  {
   "cell_type": "markdown",
   "metadata": {},
   "source": [
    "#### 8. Create a Dictionary of name, roll no, marks, gender and access keys from the dictionary using key () method? "
   ]
  },
  {
   "cell_type": "code",
   "execution_count": 10,
   "metadata": {},
   "outputs": [
    {
     "name": "stdout",
     "output_type": "stream",
     "text": [
      "dict_keys(['name', 'roll no', 'marks', 'gender'])\n"
     ]
    }
   ],
   "source": [
    "dict={'name':'sonu','roll no':15,'marks':90,'gender':'female'}\n",
    "print(dict.keys())"
   ]
  },
  {
   "cell_type": "markdown",
   "metadata": {},
   "source": [
    "#### 9. Take set A for even and B for odd and print the union of two set? "
   ]
  },
  {
   "cell_type": "code",
   "execution_count": 16,
   "metadata": {},
   "outputs": [
    {
     "name": "stdout",
     "output_type": "stream",
     "text": [
      "{1, 2, 3, 4, 5, 6, 7, 8}\n"
     ]
    }
   ],
   "source": [
    "A=set([2,4,6,8])\n",
    "B=set([1,3,5,7])\n",
    "print(A.union(B))"
   ]
  },
  {
   "cell_type": "markdown",
   "metadata": {},
   "source": [
    "#### 10. If A={1,2,3,4,5} and B={4,5,6,7,8} then find difference,  intersection of set A and B? "
   ]
  },
  {
   "cell_type": "code",
   "execution_count": 18,
   "metadata": {},
   "outputs": [
    {
     "name": "stdout",
     "output_type": "stream",
     "text": [
      "{1, 2, 3}\n",
      "{4, 5}\n"
     ]
    }
   ],
   "source": [
    "A=set([1,2,3,4,5])\n",
    "B=set([4,5,6,7,8])\n",
    "print(A-B)\n",
    "print(A.intersection(B))"
   ]
  },
  {
   "cell_type": "markdown",
   "metadata": {},
   "source": [
    "#### 11. If set= {1, 2, 3, 5, 6} then add an element 4 in the set using add () function and remove 3 using discard () function?"
   ]
  },
  {
   "cell_type": "code",
   "execution_count": null,
   "metadata": {},
   "outputs": [],
   "source": [
    "set1=set([1,2,3,5,6])\n",
    "set1.add(4)\n",
    "print(set1)\n",
    "def Remove(set1):\n",
    "    set1.discard(3)\n",
    "    print(s1)\n",
    "    "
   ]
  },
  {
   "cell_type": "markdown",
   "metadata": {},
   "source": [
    "#### 12. Add 12,9,11 in the set A = {1, 2, 3, 5, 6} using update () function? "
   ]
  },
  {
   "cell_type": "code",
   "execution_count": 28,
   "metadata": {},
   "outputs": [
    {
     "name": "stdout",
     "output_type": "stream",
     "text": [
      "{1, 2, 3, 5, 6, 9, 11, 12}\n"
     ]
    }
   ],
   "source": [
    "A=set([1,2,3,5,6])\n",
    "B=set([12,9,11])\n",
    "A.update(B)\n",
    "print(A)"
   ]
  },
  {
   "cell_type": "markdown",
   "metadata": {},
   "source": [
    "#### 13. Create a set and print the sum of all the elements in the set? "
   ]
  },
  {
   "cell_type": "code",
   "execution_count": 29,
   "metadata": {},
   "outputs": [
    {
     "name": "stdout",
     "output_type": "stream",
     "text": [
      "21\n"
     ]
    }
   ],
   "source": [
    "A=([1,2,3,4,5,6])\n",
    "print(sum(A))"
   ]
  },
  {
   "cell_type": "markdown",
   "metadata": {},
   "source": [
    "#### 14. if myset={\"a\",\"p\",\"p\",\"l\",\"e\"}  then check whether a and r is in the set or not using membership operator?"
   ]
  },
  {
   "cell_type": "code",
   "execution_count": 31,
   "metadata": {},
   "outputs": [
    {
     "name": "stdout",
     "output_type": "stream",
     "text": [
      "True\n",
      "False\n"
     ]
    }
   ],
   "source": [
    "myset=([\"a\",\"p\",\"p\",\"l\",\"e\"])\n",
    "print(\"a\" in myset)\n",
    "print(\"r\" in myset)"
   ]
  },
  {
   "cell_type": "markdown",
   "metadata": {},
   "source": [
    "#### 15. Create a dictionary of players name and runs in match and print keys and values in dictionary using for loop? "
   ]
  },
  {
   "cell_type": "code",
   "execution_count": 33,
   "metadata": {
    "scrolled": false
   },
   "outputs": [
    {
     "name": "stdout",
     "output_type": "stream",
     "text": [
      "Name\n",
      "Name - raju\n",
      "runs\n",
      "runs - 50\n"
     ]
    }
   ],
   "source": [
    "dict={'Name':'raju','runs':50}\n",
    "for key in dict:\n",
    "    print(key)\n",
    "    print(key,'-',dict[key])"
   ]
  }
 ],
 "metadata": {
  "kernelspec": {
   "display_name": "Python 3",
   "language": "python",
   "name": "python3"
  },
  "language_info": {
   "codemirror_mode": {
    "name": "ipython",
    "version": 3
   },
   "file_extension": ".py",
   "mimetype": "text/x-python",
   "name": "python",
   "nbconvert_exporter": "python",
   "pygments_lexer": "ipython3",
   "version": "3.7.4"
  }
 },
 "nbformat": 4,
 "nbformat_minor": 2
}
