{
 "cells": [
  {
   "cell_type": "code",
   "execution_count": null,
   "metadata": {},
   "outputs": [],
   "source": [
    "Name: Savita Baliram Patil\n",
    "    ID:AIS023\n",
    "        "
   ]
  },
  {
   "cell_type": "code",
   "execution_count": null,
   "metadata": {},
   "outputs": [],
   "source": [
    "Python Exercise No: 6\n",
    "Subject: Control Statements "
   ]
  },
  {
   "cell_type": "code",
   "execution_count": null,
   "metadata": {},
   "outputs": [],
   "source": [
    "1. Which are the control statements in python? \n",
    " Basic program based on control statements: "
   ]
  },
  {
   "cell_type": "code",
   "execution_count": null,
   "metadata": {},
   "outputs": [],
   "source": [
    "2. A python program to test whether a given number is in between 1 and 10? "
   ]
  },
  {
   "cell_type": "code",
   "execution_count": null,
   "metadata": {},
   "outputs": [],
   "source": [
    "3. Write a python program to check whether number is even or odd? "
   ]
  },
  {
   "cell_type": "code",
   "execution_count": null,
   "metadata": {},
   "outputs": [],
   "source": [
    "num=4\n",
    "if (num%2==0):\n",
    "    print(\"num is even\")\n",
    "else:\n",
    "    print(\"num is odd\")"
   ]
  },
  {
   "cell_type": "code",
   "execution_count": null,
   "metadata": {},
   "outputs": [],
   "source": [
    "4. Write a python program to check whether a list is empty or not using len () function? "
   ]
  },
  {
   "cell_type": "code",
   "execution_count": 4,
   "metadata": {},
   "outputs": [
    {
     "name": "stdout",
     "output_type": "stream",
     "text": [
      "list is not empty\n"
     ]
    }
   ],
   "source": [
    "list=[1,2,3,3]\n",
    "a=len(list)\n",
    "if (a==0):\n",
    "    print(\"list is empty\")\n",
    "else:\n",
    "    print(\"list is not empty\")"
   ]
  },
  {
   "cell_type": "code",
   "execution_count": null,
   "metadata": {},
   "outputs": [],
   "source": [
    "5. A python program to check whether a given number is zero, positive or negative? "
   ]
  },
  {
   "cell_type": "code",
   "execution_count": 8,
   "metadata": {},
   "outputs": [
    {
     "name": "stdout",
     "output_type": "stream",
     "text": [
      "num is positive\n"
     ]
    }
   ],
   "source": [
    "num=7\n",
    "if (num>0):\n",
    "    print(\"num is positive\")\n",
    "elif (num<0):\n",
    "    print(\"num is negative\")\n",
    "else:\n",
    "    print(\"it is zero\")"
   ]
  },
  {
   "cell_type": "code",
   "execution_count": null,
   "metadata": {},
   "outputs": [],
   "source": [
    "6. Print first 10 natural numbers using while loop and for loop? "
   ]
  },
  {
   "cell_type": "code",
   "execution_count": null,
   "metadata": {},
   "outputs": [],
   "source": [
    "#using for loop\n",
    "for i in range(1,11,1):\n",
    "    print(i)\n",
    "    \n",
    "#using while loop\n",
    "num=()\n",
    "index=0\n",
    "while index =10:\n",
    "    print(index+1)"
   ]
  },
  {
   "cell_type": "code",
   "execution_count": null,
   "metadata": {},
   "outputs": [],
   "source": [
    "7. Write a python program to reverse the following list using for loop? \n",
    "lt1 = [12, 7, 9, 14, 5] "
   ]
  },
  {
   "cell_type": "code",
   "execution_count": null,
   "metadata": {},
   "outputs": [],
   "source": [
    "lt1 = [12, 7, 9, 14, 5] \n",
    "for i in range(lt1,-1):\n",
    "    print(i)"
   ]
  },
  {
   "cell_type": "code",
   "execution_count": null,
   "metadata": {},
   "outputs": [],
   "source": [
    "8. Write a python program to multiply all the items in a list using for loop? "
   ]
  },
  {
   "cell_type": "code",
   "execution_count": null,
   "metadata": {},
   "outputs": [],
   "source": [
    "a=1\n",
    "print(a)"
   ]
  },
  {
   "cell_type": "code",
   "execution_count": null,
   "metadata": {},
   "outputs": [],
   "source": [
    "9. Write a python program to print numbers in list which are divisible by 6 and if number is greater than 150 then stop\n",
    "the iteration? \n",
    "list1 = [12, 15, 36, 20, 55, 47, 102, 150, 146, 180] "
   ]
  },
  {
   "cell_type": "code",
   "execution_count": null,
   "metadata": {},
   "outputs": [],
   "source": [
    "10. Write a program to count a specific letter in the string.? "
   ]
  },
  {
   "cell_type": "code",
   "execution_count": null,
   "metadata": {},
   "outputs": [],
   "source": []
  }
 ],
 "metadata": {
  "kernelspec": {
   "display_name": "Python 3",
   "language": "python",
   "name": "python3"
  },
  "language_info": {
   "codemirror_mode": {
    "name": "ipython",
    "version": 3
   },
   "file_extension": ".py",
   "mimetype": "text/x-python",
   "name": "python",
   "nbconvert_exporter": "python",
   "pygments_lexer": "ipython3",
   "version": "3.7.4"
  }
 },
 "nbformat": 4,
 "nbformat_minor": 2
}
